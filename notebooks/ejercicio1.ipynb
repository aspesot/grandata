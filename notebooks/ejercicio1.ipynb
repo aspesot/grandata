{
 "cells": [
  {
   "cell_type": "code",
   "execution_count": 60,
   "id": "a3b8a880-3dfe-465f-aa9d-75916488ee3c",
   "metadata": {},
   "outputs": [],
   "source": [
    "from pyspark.sql import SparkSession\n",
    "from pyspark.sql.functions import col, when, lit, md5, sum as _sum\n",
    "import matplotlib.pyplot as plt\n",
    "import os\n",
    "\n",
    "# Extracción de datos\n",
    "\n",
    "# 1. Crear SparkSession\n",
    "spark = SparkSession.builder.appName(\"GrandataSMS\").getOrCreate()\n",
    "\n",
    "# 2. Cargar datasets\n",
    "df_events = spark.read.option(\"header\", True).csv(\"/app/data/events.csv.gz\", inferSchema=True)\n",
    "df_free_sms_destinations = spark.read.option(\"header\", True).csv(\"/app/data/free_sms_destinations.csv.gz\", inferSchema=True)\n",
    "\n"
   ]
  },
  {
   "cell_type": "code",
   "execution_count": 61,
   "id": "3a4ce833-7153-4d1b-bafa-0636e5d033a6",
   "metadata": {},
   "outputs": [],
   "source": [
    "# Limpieza de Datos y Creación del modelo base\n",
    "\n",
    "# 3. Limpiar registros nulos\n",
    "df_events = df_events.filter(col(\"id_source\").isNotNull() & col(\"id_destination\").isNotNull())\n",
    "\n",
    "# 4. Marcar destinos gratuitos\n",
    "df_free_sms_destinations = df_free_sms_destinations.withColumnRenamed(\"id\", \"id_destination\")\n",
    "df_events = df_events.join(df_free_sms_destinations.withColumn(\"is_free\", lit(True)), on=\"id_destination\", how=\"left\")\n",
    "df_events = df_events.withColumn(\"is_free\", when(col(\"is_free\").isNull(), False).otherwise(True))\n",
    "\n",
    "\n",
    "# 5. Calcular el costo por sms\n",
    "df_events = df_events.withColumn(\n",
    "    \"sms_unit_cost\",\n",
    "    when(col(\"is_free\"), 0.0)\n",
    "    .when(col(\"region\").between(1, 5), 1.5)\n",
    "    .when(col(\"region\").between(6, 9), 2.0)\n",
    "    .otherwise(0.0)\n",
    ")\n",
    "\n",
    "# 6. Calcular costo total por fila\n",
    "df_events = df_events.withColumn(\"sms_total_cost\", col(\"sms\") * col(\"sms_unit_cost\"))\n"
   ]
  },
  {
   "cell_type": "code",
   "execution_count": 62,
   "id": "51a95134-27eb-4b22-a7a2-a9f3d12e5f26",
   "metadata": {},
   "outputs": [
    {
     "name": "stdout",
     "output_type": "stream",
     "text": [
      "Monto total a facturar: $391367.00\n"
     ]
    }
   ],
   "source": [
    "# Crear carpetas de salida si no existen\n",
    "os.makedirs(\"../output\", exist_ok=True)\n",
    "\n",
    "# -------------------------------\n",
    "# ✅ PUNTO 1: monto total facturado\n",
    "# -------------------------------\n",
    "total_amount = df_events.agg({\"sms_total_cost\": \"sum\"}).collect()[0][0]\n",
    "print(f\"Monto total a facturar: ${total_amount:.2f}\")\n",
    "\n",
    "# # Guardar el monto en un .txt para el README\n",
    "# with open(\"../output/monto_total.txt\", \"w\") as f:\n",
    "#     f.write(f\"Monto total a facturar: ${total_amount:.2f}\\n\")\n"
   ]
  },
  {
   "cell_type": "code",
   "execution_count": 63,
   "id": "c38cb76d-3fe7-455d-a078-dea430ec4f74",
   "metadata": {},
   "outputs": [
    {
     "name": "stdout",
     "output_type": "stream",
     "text": [
      "Top 100 exportado como Parquet.\n"
     ]
    }
   ],
   "source": [
    "# -------------------------------\n",
    "# ✅ PUNTO 2: Top 100 usuarios por facturación\n",
    "# -------------------------------\n",
    "df_usuarios = df_events.groupBy(\"id_source\") \\\n",
    "    .agg(_sum(\"sms_total_cost\").alias(\"monto_facturado\")) \\\n",
    "    .orderBy(col(\"monto_facturado\").desc()) \\\n",
    "    .limit(100)\n",
    "\n",
    "# Agregar ID hasheado en MD5\n",
    "df_usuarios = df_usuarios.withColumn(\"id_md5\", md5(col(\"id_source\")))\n",
    "\n",
    "# Guardar en Parquet con compresión gzip\n",
    "df_usuarios.write.mode(\"overwrite\").option(\"compression\", \"gzip\") \\\n",
    "    .parquet(\"../output/top_100_usuarios.parquet\")\n",
    "\n",
    "print(\"Top 100 exportado como Parquet.\")\n"
   ]
  },
  {
   "cell_type": "code",
   "execution_count": 64,
   "id": "5999822f-0612-4e27-bb57-6b703c2edf79",
   "metadata": {},
   "outputs": [
    {
     "name": "stdout",
     "output_type": "stream",
     "text": [
      "+---------+---------------+--------------------+\n",
      "|id_source|monto_facturado|              id_md5|\n",
      "+---------+---------------+--------------------+\n",
      "|      4D3|        23403.0|911914c7729eedbdf...|\n",
      "|      76D|        13664.0|bd180b7811395cbce...|\n",
      "|      07E|         4226.0|14a0660ae2f5d1868...|\n",
      "|      541|         2526.0|16c222aa19898e505...|\n",
      "|      C25|         2019.0|0bfa0b57d99985aa1...|\n",
      "+---------+---------------+--------------------+\n",
      "only showing top 5 rows\n",
      "\n"
     ]
    }
   ],
   "source": [
    "# Probar el dataset\n",
    "df_top_100 = spark.read.parquet(\"../output/top_100_usuarios.parquet\")\n",
    "df_top_100.show(5)"
   ]
  },
  {
   "cell_type": "code",
   "execution_count": 65,
   "id": "68982c32-1d17-4d5b-a196-77eca2164897",
   "metadata": {},
   "outputs": [
    {
     "name": "stdout",
     "output_type": "stream",
     "text": [
      "📈 Histograma guardado como PNG.\n"
     ]
    },
    {
     "data": {
      "image/png": "[encoded data removed]",
      "text/plain": [
       "<Figure size 720x360 with 1 Axes>"
      ]
     },
     "metadata": {
      "needs_background": "light"
     },
     "output_type": "display_data"
    }
   ],
   "source": [
    "# -------------------------------\n",
    "# ✅ PUNTO 3: Histograma de llamadas por hora\n",
    "# -------------------------------\n",
    "df_llamadas_por_hora = df_events.groupBy(\"hour\").agg({\"calls\": \"sum\"}).orderBy(\"hour\")\n",
    "calls_by_hour = df_llamadas_por_hora.toPandas()\n",
    "\n",
    "# Graficar\n",
    "plt.figure(figsize=(10,5))\n",
    "plt.bar(calls_by_hour[\"hour\"], calls_by_hour[\"sum(calls)\"])\n",
    "plt.xlabel(\"Hora del día\")\n",
    "plt.ylabel(\"Cantidad total de llamadas\")\n",
    "plt.title(\"📊 Llamadas por hora del día\")\n",
    "plt.xticks(range(0,24))\n",
    "plt.grid(True)\n",
    "plt.tight_layout()\n",
    "plt.savefig(\"../output/histograma_llamadas_por_hora.png\", facecolor='white')\n",
    "print(\"📈 Histograma guardado como PNG.\")"
   ]
  },
  {
   "cell_type": "code",
   "execution_count": null,
   "id": "6e33d851-b605-4c58-a995-9f4d520f5553",
   "metadata": {},
   "outputs": [],
   "source": []
  }
 ],
 "metadata": {
  "kernelspec": {
   "display_name": "Python 3",
   "language": "python",
   "name": "python3"
  },
  "language_info": {
   "codemirror_mode": {
    "name": "ipython",
    "version": 3
   },
   "file_extension": ".py",
   "mimetype": "text/x-python",
   "name": "python",
   "nbconvert_exporter": "python",
   "pygments_lexer": "ipython3",
   "version": "3.6.9"
  }
 },
 "nbformat": 4,
 "nbformat_minor": 5
}
