{
 "cells": [
  {
   "cell_type": "code",
   "execution_count": 8,
   "id": "f54b86d4-9071-4474-a18c-c424340db005",
   "metadata": {},
   "outputs": [
    {
     "name": "stdout",
     "output_type": "stream",
     "text": [
      "→ Versión de Spark: 2.3.0\n",
      "→ Modo de ejecución: local[*]\n",
      "→ spark-submit binario: /opt/spark/bin/spark-submit\n",
      "None\n",
      "[Lscala.Tuple2;@433cd88a\n"
     ]
    }
   ],
   "source": [
    "from pyspark.sql import SparkSession\n",
    "import os\n",
    "import subprocess\n",
    "\n",
    "spark = SparkSession.builder.appName(\"GrandataSMS\").getOrCreate()\n",
    "\n",
    "print(\"→ Versión de Spark:\", spark.version)\n",
    "print(\"→ Modo de ejecución:\", spark.sparkContext.master)\n",
    "\n",
    "# Path del ejecutable spark-submit\n",
    "print(\"→ spark-submit binario:\", subprocess.getoutput(\"which spark-submit\"))\n",
    "print(spark.sparkContext._conf.get(\"spark.home\"))\n",
    "print(spark.sparkContext._jsc.sc().getConf().getAll())\n"
   ]
  },
  {
   "cell_type": "code",
   "execution_count": null,
   "id": "8cfcd6f8-5e4c-46d4-a0dc-82bae26aa607",
   "metadata": {},
   "outputs": [],
   "source": []
  }
 ],
 "metadata": {
  "kernelspec": {
   "display_name": "Python 3",
   "language": "python",
   "name": "python3"
  },
  "language_info": {
   "codemirror_mode": {
    "name": "ipython",
    "version": 3
   },
   "file_extension": ".py",
   "mimetype": "text/x-python",
   "name": "python",
   "nbconvert_exporter": "python",
   "pygments_lexer": "ipython3",
   "version": "3.6.9"
  }
 },
 "nbformat": 4,
 "nbformat_minor": 5
}
