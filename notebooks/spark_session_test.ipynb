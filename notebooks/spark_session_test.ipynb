{
 "cells": [
  {
   "cell_type": "code",
   "execution_count": 1,
   "id": "f54b86d4-9071-4474-a18c-c424340db005",
   "metadata": {},
   "outputs": [
    {
     "name": "stdout",
     "output_type": "stream",
     "text": [
      "✔ SparkSession creada.\n",
      "→ Versión de Spark: 2.3.0\n",
      "→ Modo de ejecución: local[*]\n",
      "→ spark-submit binario: /opt/spark/bin/spark-submit\n"
     ]
    }
   ],
   "source": [
    "from pyspark.sql import SparkSession\n",
    "import os\n",
    "import subprocess\n",
    "\n",
    "spark = SparkSession.builder.appName(\"GrandataSMS\").getOrCreate()\n",
    "\n",
    "print(\"→ Versión de Spark:\", spark.version)\n",
    "print(\"→ Modo de ejecución:\", spark.sparkContext.master)\n",
    "\n",
    "# Path del ejecutable spark-submit\n",
    "print(\"→ spark-submit binario:\", subprocess.getoutput(\"which spark-submit\"))"
   ]
  },
  {
   "cell_type": "code",
   "execution_count": null,
   "id": "924b2c07-3754-4b10-8f11-15358e6dba31",
   "metadata": {},
   "outputs": [],
   "source": []
  }
 ],
 "metadata": {
  "kernelspec": {
   "display_name": "Python 3",
   "language": "python",
   "name": "python3"
  },
  "language_info": {
   "codemirror_mode": {
    "name": "ipython",
    "version": 3
   },
   "file_extension": ".py",
   "mimetype": "text/x-python",
   "name": "python",
   "nbconvert_exporter": "python",
   "pygments_lexer": "ipython3",
   "version": "3.6.9"
  }
 },
 "nbformat": 4,
 "nbformat_minor": 5
}
